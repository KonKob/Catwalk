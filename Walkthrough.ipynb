{
 "cells": [
  {
   "cell_type": "markdown",
   "id": "ab4289a2-b6d4-4678-ab35-3a49e7c2788b",
   "metadata": {},
   "source": [
    "## To Do:\n",
    "#### - Outlier Frames 200x, Re-Trainieren\n",
    "#### - upload to github and clean up repo (alte Analyse bis MazeCorners behalten!)\n",
    "#### - Black code formatting"
   ]
  },
  {
   "cell_type": "markdown",
   "id": "cc490b7c-524d-480b-a6b4-35b1860881a1",
   "metadata": {},
   "source": [
    "# Walkthrough:"
   ]
  },
  {
   "cell_type": "code",
   "execution_count": 2,
   "id": "2e215176-cf67-4d2f-b104-9c6eaaea9936",
   "metadata": {},
   "outputs": [],
   "source": [
    "from Analysis.gaitanalysis import Recording2D\n",
    "from pathlib import Path\n",
    "import matplotlib.pyplot as plt\n",
    "import pandas as pd\n",
    "%matplotlib inline"
   ]
  },
  {
   "cell_type": "code",
   "execution_count": 3,
   "id": "cb8d96ff-d763-48a4-b541-6087a1f373fc",
   "metadata": {},
   "outputs": [],
   "source": [
    "rec_list = []\n",
    "for file in Path.iterdir(Path(\"/Users/kobel/Documents/Medizin/Doktorarbeit/Coding/Inken Analyse/Dummy Data Inken/\")):\n",
    "    if file.suffix == '.csv':\n",
    "        csv_file = str(file)\n",
    "        mp4_file = str(file.parent.joinpath(file.stem[:file.name.index('DLC_resnet50_2-1413 CatwalkMay25shuffle1_600000')] + '.mp4'))\n",
    "        rec = Recording2D(filepath=csv_file, recorded_framerate=30)\n",
    "        rec.run(video_filepath=mp4_file, intrinsic_camera_calibration_filepath = \"calibration_inken_427img.p\")\n",
    "        rec.run_gait_analysis()\n",
    "        rec_list.append(rec)"
   ]
  },
  {
   "cell_type": "code",
   "execution_count": null,
   "id": "6aa6e391-9ccf-463a-9349-e83734856276",
   "metadata": {},
   "outputs": [],
   "source": []
  },
  {
   "cell_type": "code",
   "execution_count": null,
   "id": "1b163b40-a420-4ff9-ab92-e47980af9264",
   "metadata": {},
   "outputs": [],
   "source": [
    "output_path = Path(\"/Users/kobel/Desktop/Trash\")"
   ]
  },
  {
   "cell_type": "code",
   "execution_count": null,
   "id": "52359990-e3a0-4b81-a000-686fb917a8cd",
   "metadata": {},
   "outputs": [],
   "source": [
    "for parameter in rec_list[0].parameters_paw_placed:\n",
    "    df = pd.DataFrame(data = [])\n",
    "    df['animal'] = [rec.metadata['animal'] for rec in rec_list]\n",
    "    df['paradigm'] = [rec.metadata['paradigm'] for rec in rec_list]\n",
    "    df[parameter] = [rec.parameters_paw_placed[parameter] for rec in rec_list]\n",
    "    df.to_excel(output_path.joinpath(parameter + '_paw_placed.xlsx'), index=False)"
   ]
  },
  {
   "cell_type": "code",
   "execution_count": null,
   "id": "4db37438-a7ec-439f-8810-6c04f1572f61",
   "metadata": {},
   "outputs": [],
   "source": [
    "for parameter in rec_list[0].parameters_as_psth:\n",
    "    df = pd.DataFrame(data = [])\n",
    "    df['animal'] = [rec.metadata['animal'] for rec in rec_list]\n",
    "    df['paradigm'] = [rec.metadata['paradigm'] for rec in rec_list]\n",
    "    for i in range(-7, 7):\n",
    "        df[i] = [rec.parameters_as_psth[parameter][i] for rec in rec_list]\n",
    "    df.to_excel(output_path.joinpath(parameter + '_psth.xlsx'), index=False)"
   ]
  },
  {
   "cell_type": "code",
   "execution_count": null,
   "id": "f577fe68-46c5-4818-adae-e53d0bee1fa7",
   "metadata": {},
   "outputs": [],
   "source": [
    "for parameter in rec_list[0].parameters_as_psth:\n",
    "    fig, ax = plt.subplots()\n",
    "    for rec in rec_list:\n",
    "        plt.plot(range(-7, 7), rec.parameters_as_psth[parameter])\n",
    "    print(parameter)\n",
    "    plt.show()"
   ]
  },
  {
   "cell_type": "code",
   "execution_count": null,
   "id": "004fc546-165f-430c-89bb-70ad4c0a11ac",
   "metadata": {},
   "outputs": [],
   "source": [
    "for parameter in rec_list[0].parameters_paw_placed:\n",
    "    fig, ax = plt.subplots()\n",
    "    i = 0\n",
    "    for rec in rec_list:\n",
    "        plt.bar(i, rec.parameters_paw_placed[parameter])\n",
    "        i += 1\n",
    "    print(parameter)\n",
    "    plt.show()"
   ]
  },
  {
   "cell_type": "code",
   "execution_count": null,
   "id": "e4e82ad9-4106-41f8-89b6-5f2218de94e4",
   "metadata": {},
   "outputs": [],
   "source": []
  }
 ],
 "metadata": {
  "kernelspec": {
   "display_name": "Python 3 (ipykernel)",
   "language": "python",
   "name": "python3"
  },
  "language_info": {
   "codemirror_mode": {
    "name": "ipython",
    "version": 3
   },
   "file_extension": ".py",
   "mimetype": "text/x-python",
   "name": "python",
   "nbconvert_exporter": "python",
   "pygments_lexer": "ipython3",
   "version": "3.9.12"
  }
 },
 "nbformat": 4,
 "nbformat_minor": 5
}
