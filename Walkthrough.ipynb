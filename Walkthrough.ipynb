{
 "cells": [
  {
   "cell_type": "markdown",
   "id": "ab4289a2-b6d4-4678-ab35-3a49e7c2788b",
   "metadata": {},
   "source": [
    "## To Do:\n",
    "#### - DocStrings\n",
    "#### - retrained network"
   ]
  },
  {
   "cell_type": "markdown",
   "id": "cc490b7c-524d-480b-a6b4-35b1860881a1",
   "metadata": {},
   "source": [
    "# Walkthrough:"
   ]
  },
  {
   "cell_type": "code",
   "execution_count": null,
   "id": "2e215176-cf67-4d2f-b104-9c6eaaea9936",
   "metadata": {},
   "outputs": [],
   "source": [
    "from Analysis.gaitanalysis import Recording2D\n",
    "from pathlib import Path\n",
    "import matplotlib.pyplot as plt\n",
    "import pandas as pd\n",
    "import numpy as np\n",
    "import seaborn as sns\n",
    "\n",
    "%matplotlib inline"
   ]
  },
  {
   "cell_type": "code",
   "execution_count": null,
   "id": "cb8d96ff-d763-48a4-b541-6087a1f373fc",
   "metadata": {
    "tags": []
   },
   "outputs": [],
   "source": [
    "rec_list = []\n",
    "for file in Path.iterdir(Path(\"/Users/kobel/Downloads/Data Inken/Data/\")):\n",
    "    if file.suffix == \".csv\":\n",
    "        if not \"filtered\" in file.name:\n",
    "            csv_file = str(file)\n",
    "            rec = Recording2D(filepath=csv_file, recorded_framerate=30)\n",
    "            if rec.full_df_from_hdf.shape[0] > 150:\n",
    "                rec.run(\n",
    "                    intrinsic_camera_calibration_filepath=\"/Users/kobel/Downloads/Data Inken/calibration_inken_427img.p\"\n",
    "                )\n",
    "                rec.run_gait_analysis()\n",
    "                rec_list.append(rec)"
   ]
  },
  {
   "cell_type": "code",
   "execution_count": null,
   "id": "1b163b40-a420-4ff9-ab92-e47980af9264",
   "metadata": {},
   "outputs": [],
   "source": [
    "output_path = Path(\"/Users/kobel/Downloads/Data Inken/Analysis_peak/\")"
   ]
  },
  {
   "cell_type": "code",
   "execution_count": null,
   "id": "52359990-e3a0-4b81-a000-686fb917a8cd",
   "metadata": {
    "tags": []
   },
   "outputs": [],
   "source": [
    "groups = pd.read_excel(\"/Users/kobel/Downloads/Data Inken/Gruppen.xlsx\")\n",
    "for parameter in rec_list[0].parameters_over_steps:\n",
    "    df = pd.DataFrame(data={}, columns=[\"Data\", \"group_id\", \"subject_id\", \"session_id\"])\n",
    "    for i, rec in enumerate(rec_list):\n",
    "        data = np.NaN\n",
    "        group_id = np.NaN\n",
    "        animal = rec.metadata[\"animal\"]\n",
    "        paradigm = rec.metadata[\"paradigm\"]\n",
    "        try:\n",
    "            group_id = groups.loc[groups[\"subject_id\"] == animal, \"group_id\"].values[0]\n",
    "        except:\n",
    "            continue\n",
    "        try:\n",
    "            data = rec.parameters_paw_placed[parameter]\n",
    "        except:\n",
    "            pass\n",
    "        if \"ä\" in paradigm:\n",
    "            paradigm = paradigm.replace(\"ä\", \"e\")\n",
    "        if paradigm == \"post6xIgG\":\n",
    "            paradigm = \"post-6xIgG\"\n",
    "        if paradigm == \"post3xIgG\":\n",
    "            paradigm = \"post-3xIgG\"\n",
    "        if paradigm == \"post1xIgG\":\n",
    "            paradigm = \"post-1xIgG\"\n",
    "        if paradigm == \"post-OP3\":\n",
    "            paradigm = \"pre-OP3\"\n",
    "        df.loc[i, \"subject_id\"] = animal\n",
    "        df.loc[i, \"session_id\"] = paradigm\n",
    "        df.loc[i, \"group_id\"] = group_id\n",
    "        df.loc[i, \"Data\"] = data\n",
    "\n",
    "    df.dropna(inplace=True)\n",
    "    \"\"\"\n",
    "    for paradigm in ['pre-OP1', 'pre-OP2', 'pre-OP3', 'post-OP', 'post-1xIgG', 'post-3xIgG', 'post-6xIgG']:\n",
    "        for group in np.unique(groups.values[:, 0]):\n",
    "            if df.loc[(df['group_id'] == group) & (df['session_id'] == paradigm), 'Data'].shape[0] < 3:\n",
    "                df.loc[(df['group_id'] == group) & (df['session_id'] == paradigm), 'Data'] = np.NaN\n",
    "    df.dropna(inplace = True)\n",
    "    \"\"\"\n",
    "    df.to_csv(output_path.joinpath(parameter + \"_paw_placed.csv\"), index=False)"
   ]
  },
  {
   "cell_type": "code",
   "execution_count": null,
   "id": "89df8097-6506-429b-92b0-d3c7b8ac3fed",
   "metadata": {
    "tags": []
   },
   "outputs": [],
   "source": [
    "for file in output_path.iterdir():\n",
    "    if (file.suffix == \".csv\") and \"paw_placed\" in file.name:\n",
    "        print(file.name)\n",
    "        plotting = pd.read_csv(output_path.joinpath(file))\n",
    "        fig = plt.figure(figsize=(10, 5))\n",
    "        sns.pointplot(\n",
    "            data=plotting,\n",
    "            y=\"Data\",\n",
    "            x=\"session_id\",\n",
    "            hue=\"group_id\",\n",
    "            order=[\n",
    "                \"pre-OP1\",\n",
    "                \"pre-OP2\",\n",
    "                \"pre-OP3\",\n",
    "                \"post-OP\",\n",
    "                \"post-1xIgG\",\n",
    "                \"post-3xIgG\",\n",
    "                \"post-6xIgG\",\n",
    "            ],\n",
    "        )\n",
    "        plt.show()"
   ]
  },
  {
   "cell_type": "code",
   "execution_count": null,
   "id": "4db37438-a7ec-439f-8810-6c04f1572f61",
   "metadata": {},
   "outputs": [],
   "source": [
    "groups = pd.read_excel(\"/Users/kobel/Downloads/Data Inken/Gruppen.xlsx\")\n",
    "for parameter in rec_list[0].parameters_over_steps:\n",
    "    df = pd.DataFrame(data={}, columns=[\"Data\", \"group_id\", \"subject_id\", \"session_id\"])\n",
    "    for i, rec in enumerate(rec_list):\n",
    "        animal = rec.metadata[\"animal\"]\n",
    "        paradigm = rec.metadata[\"paradigm\"]\n",
    "        try:\n",
    "            group_id = groups.loc[groups[\"subject_id\"] == animal, \"group_id\"].values[0]\n",
    "        except:\n",
    "            continue\n",
    "        try:\n",
    "            data = rec.parameters_paw_placed[parameter]\n",
    "        except:\n",
    "            pass\n",
    "        if \"ä\" in paradigm:\n",
    "            paradigm = paradigm.replace(\"ä\", \"e\")\n",
    "        if paradigm == \"post6xIgG\":\n",
    "            paradigm = \"post-6xIgG\"\n",
    "        if paradigm == \"post3xIgG\":\n",
    "            paradigm = \"post-3xIgG\"\n",
    "        if paradigm == \"post1xIgG\":\n",
    "            paradigm = \"post-1xIgG\"\n",
    "        if paradigm == \"post-OP3\":\n",
    "            paradigm = \"pre-OP3\"\n",
    "        df.loc[i, \"subject_id\"] = animal\n",
    "        df.loc[i, \"session_id\"] = paradigm\n",
    "        df.loc[i, \"group_id\"] = group_id\n",
    "        for n in range(-7, 7):\n",
    "            try:\n",
    "                df.loc[i, n] = rec.parameters_as_psth[parameter][n]\n",
    "            except:\n",
    "                pass\n",
    "    df.to_csv(output_path.joinpath(parameter + \"_psth.csv\"), index=False)"
   ]
  },
  {
   "cell_type": "code",
   "execution_count": null,
   "id": "e4e82ad9-4106-41f8-89b6-5f2218de94e4",
   "metadata": {},
   "outputs": [],
   "source": []
  }
 ],
 "metadata": {
  "kernelspec": {
   "display_name": "Python 3 (ipykernel)",
   "language": "python",
   "name": "python3"
  },
  "language_info": {
   "codemirror_mode": {
    "name": "ipython",
    "version": 3
   },
   "file_extension": ".py",
   "mimetype": "text/x-python",
   "name": "python",
   "nbconvert_exporter": "python",
   "pygments_lexer": "ipython3",
   "version": "3.9.12"
  }
 },
 "nbformat": 4,
 "nbformat_minor": 5
}
