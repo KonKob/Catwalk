{
 "cells": [
  {
   "cell_type": "code",
   "execution_count": 52,
   "id": "92930c2e",
   "metadata": {},
   "outputs": [],
   "source": [
    "import numpy as np\n",
    "import matplotlib.pyplot as plt\n",
    "import math"
   ]
  },
  {
   "cell_type": "code",
   "execution_count": 111,
   "id": "0fa9ff82",
   "metadata": {},
   "outputs": [],
   "source": [
    "#so müsste es sein\n",
    "def rotate(xy, theta):\n",
    "    cos_theta, sin_theta = math.cos(theta), math.sin(theta)\n",
    "    return(xy[0] * cos_theta + xy[1] * sin_theta, - xy[0] * sin_theta + xy[1] * cos_theta)\n",
    "        #rotates clockwise\n",
    "        \n",
    "def translate(xy, offset):\n",
    "    return (xy[0] + offset[0], xy[1] + offset[1])\n",
    "\n",
    "# so ist es im Code\n",
    "def rotatea(xy, theta):\n",
    "    cos_theta, sin_theta = math.cos(theta), math.sin(theta)\n",
    "    return (xy[0] * cos_theta - xy[1] * sin_theta, xy[0] * sin_theta + xy[1] * cos_theta)\n",
    "\n",
    "def translatea(xy, offset):\n",
    "    return xy[0] + offset[0], xy[1] + offset[1]"
   ]
  },
  {
   "cell_type": "code",
   "execution_count": 94,
   "id": "76809b21",
   "metadata": {},
   "outputs": [
    {
     "data": {
      "text/plain": [
       "<matplotlib.collections.PathCollection at 0x1ca0d730af0>"
      ]
     },
     "execution_count": 94,
     "metadata": {},
     "output_type": "execute_result"
    },
    {
     "data": {
      "image/png": "[encoded data removed]",
      "text/plain": [
       "<Figure size 432x288 with 1 Axes>"
      ]
     },
     "metadata": {
      "needs_background": "light"
     },
     "output_type": "display_data"
    }
   ],
   "source": [
    "#ursprüngliche matrix\n",
    "rx = [0, 1, 1, 5, 0, 5]\n",
    "ry = [0, 1, 4, 5, 5, 0]\n",
    "plt.scatter(rx, ry)"
   ]
  },
  {
   "cell_type": "code",
   "execution_count": 117,
   "id": "285cf830",
   "metadata": {},
   "outputs": [
    {
     "name": "stdout",
     "output_type": "stream",
     "text": [
      "[(5.0, -10.0), (4.704949581812917, -11.383092639965822), (6.3370129144810265, -13.90030722719518), (3.524747909064587, -16.915463199829112), (7.720105554446849, -14.195357645382263), (0.8046423546177381, -12.72010555444685)]\n",
      "5.0\n"
     ]
    },
    {
     "data": {
      "image/png": "[encoded data removed]",
      "text/plain": [
       "<Figure size 432x288 with 1 Axes>"
      ]
     },
     "metadata": {
      "needs_background": "light"
     },
     "output_type": "display_data"
    }
   ],
   "source": [
    "#veränderte Matrix (um offset verschoben und um theta gegen den Uhrzeigersinn gedreht)\n",
    "offset = (5, -10)\n",
    "rotm=[]\n",
    "for n in range(6):\n",
    "    rotm.append(translatea(rotatea((rx[n], ry[n]), 10), offset))\n",
    "print(rotm)\n",
    "for n in range(6):\n",
    "    plt.scatter(rotm[n][0], rotm[n][1])"
   ]
  },
  {
   "cell_type": "code",
   "execution_count": 119,
   "id": "b1be59d1",
   "metadata": {},
   "outputs": [
    {
     "name": "stdout",
     "output_type": "stream",
     "text": [
      "[(-0.0, 0.0), (1.0000000000000002, 0.9999999999999996), (1.0000000000000002, 4.0), (5.0, 5.000000000000001), (4.440892098500626e-16, 5.0), (5.0, 8.881784197001252e-16)]\n",
      "5.0\n"
     ]
    },
    {
     "data": {
      "image/png": "[encoded data removed]",
      "text/plain": [
       "<Figure size 432x288 with 1 Axes>"
      ]
     },
     "metadata": {
      "needs_background": "light"
     },
     "output_type": "display_data"
    }
   ],
   "source": [
    "#Rotation gegen Uhrzeigersinn\n",
    "rotb = []\n",
    "offsetb = (-5, 10)\n",
    "for n in range(6):\n",
    "    rotb.append(rotate(translate((rotm[n][0], rotm[n][1]), offsetb), 10))\n",
    "print(rotb)\n",
    "for n in range(6):\n",
    "    plt.scatter(rotb[n][0], rotb[n][1])"
   ]
  },
  {
   "cell_type": "code",
   "execution_count": 122,
   "id": "b603b8be",
   "metadata": {},
   "outputs": [],
   "source": [
    "#\"https://math.stackexchange.com/questions/1903012/concatenating-translation-and-rotation-matrix-what-am-i-doing-wrong\"\n",
    "#\"https://en.wikipedia.org/wiki/Transformation_matrix\""
   ]
  },
  {
   "cell_type": "code",
   "execution_count": null,
   "id": "c6efe40f",
   "metadata": {},
   "outputs": [],
   "source": []
  }
 ],
 "metadata": {
  "kernelspec": {
   "display_name": "Python 3 (ipykernel)",
   "language": "python",
   "name": "python3"
  },
  "language_info": {
   "codemirror_mode": {
    "name": "ipython",
    "version": 3
   },
   "file_extension": ".py",
   "mimetype": "text/x-python",
   "name": "python",
   "nbconvert_exporter": "python",
   "pygments_lexer": "ipython3",
   "version": "3.9.12"
  }
 },
 "nbformat": 4,
 "nbformat_minor": 5
}
