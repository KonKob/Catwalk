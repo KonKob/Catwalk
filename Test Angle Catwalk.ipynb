{
 "cells": [
  {
   "cell_type": "code",
   "execution_count": 180,
   "id": "7e60f6ff",
   "metadata": {},
   "outputs": [],
   "source": [
    "import math\n",
    "import matplotlib.pyplot as plt\n",
    "import pandas as pd\n",
    "import numpy as np"
   ]
  },
  {
   "cell_type": "code",
   "execution_count": 332,
   "id": "e4e58882",
   "metadata": {},
   "outputs": [
    {
     "data": {
      "text/html": [
       "<div>\n",
       "<style scoped>\n",
       "    .dataframe tbody tr th:only-of-type {\n",
       "        vertical-align: middle;\n",
       "    }\n",
       "\n",
       "    .dataframe tbody tr th {\n",
       "        vertical-align: top;\n",
       "    }\n",
       "\n",
       "    .dataframe thead th {\n",
       "        text-align: right;\n",
       "    }\n",
       "</style>\n",
       "<table border=\"1\" class=\"dataframe\">\n",
       "  <thead>\n",
       "    <tr style=\"text-align: right;\">\n",
       "      <th></th>\n",
       "      <th>x1</th>\n",
       "      <th>y1</th>\n",
       "      <th>x2</th>\n",
       "      <th>y2</th>\n",
       "      <th>x3</th>\n",
       "      <th>y3</th>\n",
       "    </tr>\n",
       "  </thead>\n",
       "  <tbody>\n",
       "    <tr>\n",
       "      <th>0</th>\n",
       "      <td>1</td>\n",
       "      <td>0</td>\n",
       "      <td>0</td>\n",
       "      <td>1</td>\n",
       "      <td>0</td>\n",
       "      <td>0</td>\n",
       "    </tr>\n",
       "    <tr>\n",
       "      <th>1</th>\n",
       "      <td>0</td>\n",
       "      <td>0</td>\n",
       "      <td>0</td>\n",
       "      <td>0</td>\n",
       "      <td>1</td>\n",
       "      <td>1</td>\n",
       "    </tr>\n",
       "    <tr>\n",
       "      <th>2</th>\n",
       "      <td>0</td>\n",
       "      <td>0</td>\n",
       "      <td>0</td>\n",
       "      <td>2</td>\n",
       "      <td>0</td>\n",
       "      <td>1</td>\n",
       "    </tr>\n",
       "  </tbody>\n",
       "</table>\n",
       "</div>"
      ],
      "text/plain": [
       "   x1  y1  x2  y2  x3  y3\n",
       "0   1   0   0   1   0   0\n",
       "1   0   0   0   0   1   1\n",
       "2   0   0   0   2   0   1"
      ]
     },
     "execution_count": 332,
     "metadata": {},
     "output_type": "execute_result"
    }
   ],
   "source": [
    "data={\"x1\": [1, 0, 0], \"y1\": [0, 0, 0], \"x2\": [0, 0, 0], \"y2\":[1, 0, 2], \"x3\": [0, 1, 0], \"y3\": [0, 1, 1]}\n",
    "df = pd.DataFrame(data=data)\n",
    "df"
   ]
  },
  {
   "cell_type": "code",
   "execution_count": 333,
   "id": "2d68ee6f",
   "metadata": {},
   "outputs": [
    {
     "data": {
      "image/png": "[encoded data removed]",
      "text/plain": [
       "<Figure size 432x288 with 1 Axes>"
      ]
     },
     "metadata": {
      "needs_background": "light"
     },
     "output_type": "display_data"
    },
    {
     "data": {
      "image/png": "[encoded data removed]",
      "text/plain": [
       "<Figure size 432x288 with 1 Axes>"
      ]
     },
     "metadata": {
      "needs_background": "light"
     },
     "output_type": "display_data"
    },
    {
     "data": {
      "image/png": "[encoded data removed]",
      "text/plain": [
       "<Figure size 432x288 with 1 Axes>"
      ]
     },
     "metadata": {
      "needs_background": "light"
     },
     "output_type": "display_data"
    }
   ],
   "source": [
    "for n in range(3):\n",
    "    fig, ax = plt.subplots()\n",
    "    ax.scatter([data[\"x1\"][n], data[\"x2\"][n], data[\"x3\"][n]], [data[\"y1\"][n], data[\"y2\"][n], data[\"y3\"][n]])\n",
    "    ax.set_aspect(\"equal\")\n",
    "    plt.show()"
   ]
  },
  {
   "cell_type": "code",
   "execution_count": null,
   "id": "7a2e9bcb",
   "metadata": {},
   "outputs": [],
   "source": []
  },
  {
   "cell_type": "code",
   "execution_count": 334,
   "id": "ca4fc6dd",
   "metadata": {},
   "outputs": [
    {
     "data": {
      "text/plain": [
       "0    1.414214\n",
       "1    0.000000\n",
       "2    2.000000\n",
       "dtype: float64"
      ]
     },
     "execution_count": 334,
     "metadata": {},
     "output_type": "execute_result"
    }
   ],
   "source": [
    "a = np.sqrt((df.loc[:, \"bodypart_b\"]-df.loc[:, \"x2\"])**2+(df.loc[:, \"y1\"]-df.loc[:, \"y2\"])**2)\n",
    "a\n"
   ]
  },
  {
   "cell_type": "code",
   "execution_count": 335,
   "id": "0695e11d",
   "metadata": {},
   "outputs": [
    {
     "data": {
      "text/plain": [
       "0    1.000000\n",
       "1    1.414214\n",
       "2    1.000000\n",
       "dtype: float64"
      ]
     },
     "execution_count": 335,
     "metadata": {},
     "output_type": "execute_result"
    }
   ],
   "source": [
    "b = np.sqrt((df.loc[:, \"x2\"]-df.loc[:, \"x3\"])**2+(df.loc[:, \"y2\"]-df.loc[:, \"y3\"])**2)\n",
    "b"
   ]
  },
  {
   "cell_type": "code",
   "execution_count": 336,
   "id": "23dcb19d",
   "metadata": {},
   "outputs": [
    {
     "data": {
      "text/plain": [
       "0    1.000000\n",
       "1    1.414214\n",
       "2    1.000000\n",
       "dtype: float64"
      ]
     },
     "execution_count": 336,
     "metadata": {},
     "output_type": "execute_result"
    }
   ],
   "source": [
    "c = np.sqrt((df.loc[:, \"x1\"]-df.loc[:, \"x3\"])**2+(df.loc[:, \"y1\"]-df.loc[:, \"y3\"])**2)\n",
    "c"
   ]
  },
  {
   "cell_type": "code",
   "execution_count": 337,
   "id": "b2fb25c1",
   "metadata": {},
   "outputs": [],
   "source": [
    "cosa = (a**2-b**2-c**2)/(-2*b*c)"
   ]
  },
  {
   "cell_type": "code",
   "execution_count": 338,
   "id": "ed45ed6f",
   "metadata": {},
   "outputs": [
    {
     "data": {
      "text/plain": [
       "0     90.0\n",
       "1      0.0\n",
       "2    180.0\n",
       "dtype: float64"
      ]
     },
     "execution_count": 338,
     "metadata": {},
     "output_type": "execute_result"
    }
   ],
   "source": [
    "np.degrees(np.arccos(cosa))"
   ]
  },
  {
   "cell_type": "code",
   "execution_count": null,
   "id": "260b9a11",
   "metadata": {},
   "outputs": [],
   "source": [
    "def get angle(bodypart_a_x, bodypart_a_y, bodypart_b_x, bodypart_b_y, bodypart_c_x, bodypart_c_y):\n",
    "    a = np.sqrt((bodypart_b_x-bodypart_c_x)**2+(bodypart_b_y-bodypart_c_y)**2)\n",
    "    b = np.sqrt((bodypart_a_x-bodypart_c_x)**2+(bodypart_a_y-bodypart_c_y)**2)\n",
    "    c = np.sqrt((bodypart_a_x-bodypart_b_x)**2+(bodypart_a_y-bodypart_b_y)**2)\n",
    "    cosa = (a**2-b**2-c**2)/(-2*b*c)\n",
    "    ang = np.degrees(np.arccos(cosa))\n",
    "    return ang"
   ]
  },
  {
   "cell_type": "code",
   "execution_count": null,
   "id": "ff7f16e6",
   "metadata": {},
   "outputs": [],
   "source": []
  },
  {
   "cell_type": "code",
   "execution_count": null,
   "id": "c58c2a5d",
   "metadata": {},
   "outputs": [],
   "source": []
  },
  {
   "cell_type": "code",
   "execution_count": null,
   "id": "d9772a5a",
   "metadata": {},
   "outputs": [],
   "source": []
  }
 ],
 "metadata": {
  "kernelspec": {
   "display_name": "Python 3 (ipykernel)",
   "language": "python",
   "name": "python3"
  },
  "language_info": {
   "codemirror_mode": {
    "name": "ipython",
    "version": 3
   },
   "file_extension": ".py",
   "mimetype": "text/x-python",
   "name": "python",
   "nbconvert_exporter": "python",
   "pygments_lexer": "ipython3",
   "version": "3.9.12"
  }
 },
 "nbformat": 4,
 "nbformat_minor": 5
}
