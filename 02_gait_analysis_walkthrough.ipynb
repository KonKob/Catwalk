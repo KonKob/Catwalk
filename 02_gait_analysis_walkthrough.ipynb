{
 "cells": [
  {
   "cell_type": "markdown",
   "id": "ab4289a2-b6d4-4678-ab35-3a49e7c2788b",
   "metadata": {},
   "source": [
    "#### - replace gait periodes by single steps (step detection von elisa, alt.: end_index detection)\n",
    "#### - only positive angles!\n",
    "#### - implement PSTHs for parameters\n",
    "#### - implement max_value for parameters\n",
    "#### - export function\n",
    "####\n",
    "####\n",
    "#### - Kamera Kalibrierung aufnehmen\n",
    "#### - Outlier Frames 200x, Re-Trainieren\n",
    "#### - GaitAnalysis aus Paper?"
   ]
  },
  {
   "cell_type": "markdown",
   "id": "cc490b7c-524d-480b-a6b4-35b1860881a1",
   "metadata": {},
   "source": [
    "# Walkthrough 2D"
   ]
  },
  {
   "cell_type": "code",
   "execution_count": null,
   "id": "2e215176-cf67-4d2f-b104-9c6eaaea9936",
   "metadata": {},
   "outputs": [],
   "source": [
    "from Analysis.gaitanalysis import Recording2D\n",
    "from pathlib import Path\n",
    "import matplotlib.pyplot as plt\n",
    "%matplotlib widget"
   ]
  },
  {
   "cell_type": "code",
   "execution_count": null,
   "id": "f577fe68-46c5-4818-adae-e53d0bee1fa7",
   "metadata": {},
   "outputs": [],
   "source": [
    "bot = Recording2D(filepath=\"/Users/kobel/Documents/Medizin/Doktorarbeit/Coding/Inken Analyse/Dummy Data Inken/2-1413_Catwalk_Maus01_prä-OP1_20220315DLC_resnet50_2-1413 CatwalkMay25shuffle1_600000.csv\", recorded_framerate=30)\n",
    "bot.metadata"
   ]
  },
  {
   "cell_type": "code",
   "execution_count": null,
   "id": "004fc546-165f-430c-89bb-70ad4c0a11ac",
   "metadata": {},
   "outputs": [],
   "source": [
    "bot.run()#video_filepath='/Users/kobel/Documents/Medizin/Doktorarbeit/Coding/Inken Analyse/Dummy Data Inken/2-1413_Catwalk_Maus01_prä-OP1_20220315.mp4'\n",
    "bot.bodyparts['Snout'].df.head()"
   ]
  },
  {
   "cell_type": "code",
   "execution_count": null,
   "id": "9d5de186-f94f-4c85-96d5-d0cd0f5a24b1",
   "metadata": {
    "tags": []
   },
   "outputs": [],
   "source": [
    "bot.run_gait_analysis()"
   ]
  },
  {
   "cell_type": "code",
   "execution_count": null,
   "id": "2ea2a0f3-d072-4621-a706-31f450ed06c4",
   "metadata": {},
   "outputs": [],
   "source": [
    "#to implement\n",
    "from statistics import mean\n",
    "psth = bot.parameters_over_steps['angle_paw_knee_centerofgravity_right_HindPawRight'].mean(axis = 0)\n",
    "max_ = bot.parameters_over_steps['angle_paw_knee_centerofgravity_right_HindPawRight'].max(axis = 1)\n",
    "mean_max = mean(max_)"
   ]
  },
  {
   "cell_type": "code",
   "execution_count": null,
   "id": "84de0ac7-53d7-47d7-b536-6cb656ec70aa",
   "metadata": {},
   "outputs": [],
   "source": [
    "plt.close()\n",
    "fig, ax = plt.subplots()\n",
    "plt.plot(range(-7, 7), psth) \n",
    "plt.show()"
   ]
  },
  {
   "cell_type": "markdown",
   "id": "e30bfbe4-8979-486e-8909-6c7e1258b423",
   "metadata": {},
   "source": [
    "## Proof undistort points"
   ]
  },
  {
   "cell_type": "code",
   "execution_count": null,
   "id": "5d1b02ca-5e8c-4ca4-86ff-f514a0219a64",
   "metadata": {},
   "outputs": [],
   "source": [
    "import imageio.v4 as iio\n",
    "import cv2\n",
    "import pickle\n"
   ]
  },
  {
   "cell_type": "code",
   "execution_count": null,
   "id": "0db9e092-ad75-4439-aded-6848d514efd8",
   "metadata": {},
   "outputs": [],
   "source": [
    "df = pd.read_hdf(\"196_F7-27_220826_OTT_Bottom_synchronizedDLC_resnet152_OT_BottomCam_finalSep20shuffle1_550000filtered.h5\")\n",
    "df = df.drop('scorer', axis=1)\n",
    "df.columns = df.iloc[0, :]+ '_' + df.iloc[1, :]\n",
    "df = df.drop([0, 1], axis=0)\n",
    "df = df.reset_index()\n",
    "df = df.drop('index', axis=1)\n",
    "df = df.astype(float)"
   ]
  },
  {
   "cell_type": "code",
   "execution_count": null,
   "id": "47fd2b8e-76b6-428c-afaf-1b99b0194c58",
   "metadata": {},
   "outputs": [],
   "source": [
    "def load_intrinsic_camera_calibration(filepath_intrinsic_calibration: Path, xy_offset: Tuple[int, int]) -> None:\n",
    "    with open(filepath_intrinsic_calibration, 'rb') as io:\n",
    "        intrinsic_calibration = pickle.load(io)\n",
    "    adjusted_intrinsic_calibration = intrinsic_calibration.copy()\n",
    "    intrinsic_calibration_video_size = intrinsic_calibration['size']\n",
    "    x_offset, y_offset = xy_offset[0], xy_offset[1]\n",
    "    adjusted_K = intrinsic_calibration['K'].copy()\n",
    "    adjusted_K[0][2] = adjusted_K[0][2] - x_offset\n",
    "    adjusted_K[1][2] = adjusted_K[1][2] - y_offset\n",
    "    return adjusted_K, intrinsic_calibration['D']"
   ]
  },
  {
   "cell_type": "code",
   "execution_count": null,
   "id": "1c743143-eed9-4688-ac17-22b4591c6185",
   "metadata": {},
   "outputs": [],
   "source": [
    "image=iio.imread('/Users/kobel/Downloads/196_F7-27_220826_OTT_Bottom_synchronizedDLC_resnet152_OT_BottomCam_finalSep20shuffle1_550000_filtered_labeled.mp4', index=5700)"
   ]
  },
  {
   "cell_type": "code",
   "execution_count": null,
   "id": "9b95f4f2-33ee-4d61-8a62-5b67eb43ce5f",
   "metadata": {},
   "outputs": [],
   "source": [
    "size = (image.shape[1], image.shape[0])"
   ]
  },
  {
   "cell_type": "code",
   "execution_count": null,
   "id": "2cbe9a4d-cc39-4071-8caa-e16318458a7e",
   "metadata": {
    "tags": []
   },
   "outputs": [],
   "source": [
    "K, D = load_intrinsic_camera_calibration('/Users/kobel/Downloads/OneDrive_3_30/Bottom_checkerboard_intrinsic_calibration_results.p', xy_offset=(136, 452))"
   ]
  },
  {
   "cell_type": "code",
   "execution_count": null,
   "id": "7c4ace37-0c53-4600-bbe9-af671e1db883",
   "metadata": {},
   "outputs": [],
   "source": [
    "dst_list = []\n",
    "for bp in ['Snout', 'TailBase', 'HindPawLeft', 'HindPawRight', 'ForePawLeft', 'ForePawRight', 'WristLeft', 'WristRight', 'TailQuarterAnt', 'TaiMiddle', 'TailQuarterPost', 'TailEnd']:\n",
    "    pt = df[[bp + '_x', bp + '_y']].copy().values\n",
    "    newcameramtx, _ = cv2.getOptimalNewCameraMatrix(K, D, size, 1, size)\n",
    "    dst = cv2.undistortPoints(pt, K, D, None, newcameramtx)\n",
    "    dst = np.squeeze(dst)\n",
    "    dst_list.append(dst)"
   ]
  },
  {
   "cell_type": "code",
   "execution_count": null,
   "id": "62006c2d-040c-4d82-9624-5de34996212d",
   "metadata": {},
   "outputs": [],
   "source": [
    "plt.close()\n",
    "fig, ax = plt.subplots()\n",
    "ax.set_aspect('equal')\n",
    "#plt.imshow(undistort_fisheye_image_for_inspection(image=image, K=K, D=D, size=size))\n",
    "# issue: image is rectified, points are not -> plotting points over image makes no sense\n",
    "for dst in dst_list:\n",
    "    plt.scatter(dst[5700][0], dst[5700][1])\n",
    "plt.show()"
   ]
  },
  {
   "cell_type": "code",
   "execution_count": null,
   "id": "4e5b2453-8b9a-4bb3-addf-74420c1b7f17",
   "metadata": {},
   "outputs": [],
   "source": []
  }
 ],
 "metadata": {
  "kernelspec": {
   "display_name": "Python 3 (ipykernel)",
   "language": "python",
   "name": "python3"
  },
  "language_info": {
   "codemirror_mode": {
    "name": "ipython",
    "version": 3
   },
   "file_extension": ".py",
   "mimetype": "text/x-python",
   "name": "python",
   "nbconvert_exporter": "python",
   "pygments_lexer": "ipython3",
   "version": "3.9.12"
  }
 },
 "nbformat": 4,
 "nbformat_minor": 5
}
